{
  "metadata" : {
    "kernelspec" : {
      "display_name" : "Python 2",
      "language" : "python",
      "name" : "python2"
    },
    "language_info" : {
      "file_extension" : ".py",
      "mimetype" : "text/x-python",
      "name" : "python"
    }
  },
  "nbformat" : 4,
  "nbformat_minor" : 2,
  "cells" : [ {
    "cell_type" : "code",
    "execution_count" : 0,
    "outputs" : [ ],
    "metadata" : { },
    "source" : [ "import pandas as pd\nfrom sklearn.preprocessing import MinMaxScaler\n\neider.env.getUploaded(\"sales_data_training.csv\", \"/tmp/eider-user/userfile/modkanik/sales_data_training.csv\")\n\n# Load training data set from CSV file\ntraining_data_df = pd.read_csv(\"/tmp/eider-user/userfile/modkanik/sales_data_training.csv\")\n\neider.env.getUploaded(\"sales_data_test.csv\", \"/tmp/eider-user/userfile/modkanik/sales_data_test.csv\")\n\n# Load testing data set from CSV file\ntest_data_df = pd.read_csv(\"/tmp/eider-user/userfile/modkanik/sales_data_test.csv\")\n\n# Data needs to be scaled to a small range like 0 to 1 for the neural\n# network to work well.\nscaler = MinMaxScaler(feature_range=(0, 1))\n\n# Scale both the training inputs and outputs\nscaled_training = scaler.fit_transform(training_data_df)\nscaled_testing = scaler.transform(test_data_df)\n\n# Print out the adjustment that the scaler applied to the total_earnings column of data\nprint(\"Note: total_earnings values were scaled by multiplying by {:.10f} and adding {:.6f}\".format(scaler.scale_[8], scaler.min_[8]))\n\n# Create new pandas DataFrame objects from the scaled data\nscaled_training_df = pd.DataFrame(scaled_training, columns=training_data_df.columns.values)\nscaled_testing_df = pd.DataFrame(scaled_testing, columns=test_data_df.columns.values)\n\n# Save scaled data dataframes to new CSV files\nscaled_training_df.to_csv(\"/tmp/eider-user/userfile/modkanik/sales_data_training_scaled.csv\", index=False)\nscaled_testing_df.to_csv(\"/tmp/eider-user/userfile/modkanik/sales_data_testing_scaled.csv\", index=False)" ]
  }, {
    "cell_type" : "code",
    "execution_count" : 0,
    "outputs" : [ ],
    "metadata" : { },
    "source" : [ "import pandas as pd\nfrom keras.models import Sequential\nfrom keras.layers import *\n\ntraining_data_df = pd.read_csv(\"/tmp/eider-user/userfile/modkanik/sales_data_training_scaled.csv\")\n\nX = training_data_df.drop('total_earnings', axis=1).values\nY = training_data_df[['total_earnings']].values\n\n# Define the model\nmodel = Sequential()\nmodel.add(Dense(50, input_dim=9, activation='relu'))\nmodel.add(Dense(100, activation='relu'))\nmodel.add(Dense(50, activation='relu'))\nmodel.add(Dense(1, activation='linear'))\nmodel.compile(loss=\"mean_squared_error\", optimizer=\"adam\")" ]
  }, {
    "cell_type" : "code",
    "execution_count" : 0,
    "outputs" : [ ],
    "metadata" : { },
    "source" : [ "# Train the model\nmodel.fit(\n    X,\n    Y,\n    epochs=50,\n    shuffle=True,\n    verbose=2\n)\n\n# Load the separate test data set\ntest_data_df = pd.read_csv(\"/tmp/eider-user/userfile/modkanik/sales_data_testing_scaled.csv\")\n\nX_test = test_data_df.drop('total_earnings', axis=1).values\nY_test = test_data_df[['total_earnings']].values\n\ntest_error_rate = model.evaluate(X_test, Y_test, verbose=0)\nprint(\"The mean squared error (MSE) for the test data set is: {}\".format(test_error_rate))\n\n# Save the model to disk\nmodel.save(\"/tmp/eider-user/userfile/modkanik/trained_model.h5\")\nprint(\"Model saved to disk.\")" ]
  }, {
    "cell_type" : "code",
    "execution_count" : 0,
    "outputs" : [ ],
    "metadata" : { },
    "source" : [ "# Load the data we make to use to make a prediction\neider.env.getUploaded(\"proposed_new_product.csv\", \"/tmp/eider-user/userfile/modkanik/proposed_new_product.csv\")\nX = pd.read_csv(\"/tmp/eider-user/userfile/modkanik/proposed_new_product.csv\").values\n\n# Make a prediction with the neural network\nprediction = model.predict(X)\n\n# Grab just the first element of the first prediction (since that's the only have one)\nprediction = prediction[0][0]\n\n# Re-scale the data from the 0-to-1 range back to dollars\n# These constants are from when the data was originally scaled down to the 0-to-1 range\nprediction = prediction + 0.1159\nprediction = prediction / 0.0000036968\n\nprint(\"Earnings Prediction for Proposed Product - ${}\".format(prediction))" ]
  }, {
    "cell_type" : "code",
    "execution_count" : 0,
    "outputs" : [ ],
    "metadata" : { },
    "source" : [ "import pandas as pd\nfrom keras.models import load_model\n\n#using saved model\nmodel = load_model('/tmp/eider-user/userfile/modkanik/trained_model.h5')\n\nX = pd.read_csv(\"/tmp/eider-user/userfile/modkanik/proposed_new_product.csv\").values\nprediction = model.predict(X)\n\n# Grab just the first element of the first prediction (since we only have one)\nprediction = prediction[0][0]\n\n# Re-scale the data from the 0-to-1 range back to dollars\n# These constants are from when the data was originally scaled down to the 0-to-1 range\nprediction = prediction + 0.1159\nprediction = prediction / 0.0000036968\n\nprint(\"Earnings Prediction for Proposed Product - ${}\".format(prediction))\n\n" ]
  } ]
}